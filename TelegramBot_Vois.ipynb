{
  "nbformat": 4,
  "nbformat_minor": 0,
  "metadata": {
    "colab": {
      "provenance": [],
      "authorship_tag": "ABX9TyN+GL3TK8dvztWOPL1I62EK",
      "include_colab_link": true
    },
    "kernelspec": {
      "name": "python3",
      "display_name": "Python 3"
    },
    "language_info": {
      "name": "python"
    }
  },
  "cells": [
    {
      "cell_type": "markdown",
      "metadata": {
        "id": "view-in-github",
        "colab_type": "text"
      },
      "source": [
        "<a href=\"https://colab.research.google.com/github/XiLiCe/TelegramBot/blob/main/TelegramBot_Vois.ipynb\" target=\"_parent\"><img src=\"https://colab.research.google.com/assets/colab-badge.svg\" alt=\"Open In Colab\"/></a>"
      ]
    },
    {
      "cell_type": "code",
      "execution_count": 1,
      "metadata": {
        "colab": {
          "base_uri": "https://localhost:8080/"
        },
        "id": "Wcj8K3GU6JFB",
        "outputId": "d909e70a-46dd-4505-8f51-6ed7a278dd08"
      },
      "outputs": [
        {
          "output_type": "stream",
          "name": "stdout",
          "text": [
            "Looking in indexes: https://pypi.org/simple, https://us-python.pkg.dev/colab-wheels/public/simple/\n",
            "Collecting pyTelegramBotAPI\n",
            "  Downloading pyTelegramBotAPI-4.8.0.tar.gz (217 kB)\n",
            "\u001b[K     |████████████████████████████████| 217 kB 6.2 MB/s \n",
            "\u001b[?25hRequirement already satisfied: requests in /usr/local/lib/python3.8/dist-packages (from pyTelegramBotAPI) (2.23.0)\n",
            "Requirement already satisfied: idna<3,>=2.5 in /usr/local/lib/python3.8/dist-packages (from requests->pyTelegramBotAPI) (2.10)\n",
            "Requirement already satisfied: certifi>=2017.4.17 in /usr/local/lib/python3.8/dist-packages (from requests->pyTelegramBotAPI) (2022.9.24)\n",
            "Requirement already satisfied: urllib3!=1.25.0,!=1.25.1,<1.26,>=1.21.1 in /usr/local/lib/python3.8/dist-packages (from requests->pyTelegramBotAPI) (1.24.3)\n",
            "Requirement already satisfied: chardet<4,>=3.0.2 in /usr/local/lib/python3.8/dist-packages (from requests->pyTelegramBotAPI) (3.0.4)\n",
            "Building wheels for collected packages: pyTelegramBotAPI\n",
            "  Building wheel for pyTelegramBotAPI (setup.py) ... \u001b[?25l\u001b[?25hdone\n",
            "  Created wheel for pyTelegramBotAPI: filename=pyTelegramBotAPI-4.8.0-py3-none-any.whl size=200125 sha256=12722a9a5232cd9e3bbf628356dd9ba1ab71eb56c483f9fe21cb0c4924d5b64d\n",
            "  Stored in directory: /root/.cache/pip/wheels/c2/05/70/8409792e663e67a70e057df1f18d070105c1c457b3f410bbb0\n",
            "Successfully built pyTelegramBotAPI\n",
            "Installing collected packages: pyTelegramBotAPI\n",
            "Successfully installed pyTelegramBotAPI-4.8.0\n"
          ]
        }
      ],
      "source": [
        "pip install pyTelegramBotAPI"
      ]
    },
    {
      "cell_type": "code",
      "source": [
        "pip install Wikipedia"
      ],
      "metadata": {
        "colab": {
          "base_uri": "https://localhost:8080/"
        },
        "id": "ZQIGyxt58br-",
        "outputId": "19434b53-eac5-4059-ed3a-7ef6baf51efe"
      },
      "execution_count": 2,
      "outputs": [
        {
          "output_type": "stream",
          "name": "stdout",
          "text": [
            "Looking in indexes: https://pypi.org/simple, https://us-python.pkg.dev/colab-wheels/public/simple/\n",
            "Collecting Wikipedia\n",
            "  Downloading wikipedia-1.4.0.tar.gz (27 kB)\n",
            "Requirement already satisfied: beautifulsoup4 in /usr/local/lib/python3.8/dist-packages (from Wikipedia) (4.6.3)\n",
            "Requirement already satisfied: requests<3.0.0,>=2.0.0 in /usr/local/lib/python3.8/dist-packages (from Wikipedia) (2.23.0)\n",
            "Requirement already satisfied: urllib3!=1.25.0,!=1.25.1,<1.26,>=1.21.1 in /usr/local/lib/python3.8/dist-packages (from requests<3.0.0,>=2.0.0->Wikipedia) (1.24.3)\n",
            "Requirement already satisfied: idna<3,>=2.5 in /usr/local/lib/python3.8/dist-packages (from requests<3.0.0,>=2.0.0->Wikipedia) (2.10)\n",
            "Requirement already satisfied: chardet<4,>=3.0.2 in /usr/local/lib/python3.8/dist-packages (from requests<3.0.0,>=2.0.0->Wikipedia) (3.0.4)\n",
            "Requirement already satisfied: certifi>=2017.4.17 in /usr/local/lib/python3.8/dist-packages (from requests<3.0.0,>=2.0.0->Wikipedia) (2022.9.24)\n",
            "Building wheels for collected packages: Wikipedia\n",
            "  Building wheel for Wikipedia (setup.py) ... \u001b[?25l\u001b[?25hdone\n",
            "  Created wheel for Wikipedia: filename=wikipedia-1.4.0-py3-none-any.whl size=11695 sha256=10589760bdb6832c1a9c4aad103bb4b2de2c580e498ae2b06cfe03268e2540a6\n",
            "  Stored in directory: /root/.cache/pip/wheels/07/93/05/72c05349177dca2e0ba31a33ba4f7907606f7ddef303517c6a\n",
            "Successfully built Wikipedia\n",
            "Installing collected packages: Wikipedia\n",
            "Successfully installed Wikipedia-1.4.0\n"
          ]
        }
      ]
    },
    {
      "cell_type": "code",
      "source": [
        "pip install scikit-learn"
      ],
      "metadata": {
        "colab": {
          "base_uri": "https://localhost:8080/"
        },
        "id": "qv-RlYyB8cFd",
        "outputId": "1dbfb020-14ce-4429-aff4-6be60fde7764"
      },
      "execution_count": 3,
      "outputs": [
        {
          "output_type": "stream",
          "name": "stdout",
          "text": [
            "Looking in indexes: https://pypi.org/simple, https://us-python.pkg.dev/colab-wheels/public/simple/\n",
            "Requirement already satisfied: scikit-learn in /usr/local/lib/python3.8/dist-packages (1.0.2)\n",
            "Requirement already satisfied: scipy>=1.1.0 in /usr/local/lib/python3.8/dist-packages (from scikit-learn) (1.7.3)\n",
            "Requirement already satisfied: threadpoolctl>=2.0.0 in /usr/local/lib/python3.8/dist-packages (from scikit-learn) (3.1.0)\n",
            "Requirement already satisfied: numpy>=1.14.6 in /usr/local/lib/python3.8/dist-packages (from scikit-learn) (1.21.6)\n",
            "Requirement already satisfied: joblib>=0.11 in /usr/local/lib/python3.8/dist-packages (from scikit-learn) (1.2.0)\n"
          ]
        }
      ]
    },
    {
      "cell_type": "code",
      "source": [
        "pip install SpeechRecognition"
      ],
      "metadata": {
        "colab": {
          "base_uri": "https://localhost:8080/"
        },
        "id": "UEBdkHmUvCDZ",
        "outputId": "2a61a10b-12c5-4325-abad-5d9919642189"
      },
      "execution_count": 4,
      "outputs": [
        {
          "output_type": "stream",
          "name": "stdout",
          "text": [
            "Looking in indexes: https://pypi.org/simple, https://us-python.pkg.dev/colab-wheels/public/simple/\n",
            "Collecting SpeechRecognition\n",
            "  Downloading SpeechRecognition-3.9.0-py2.py3-none-any.whl (32.8 MB)\n",
            "\u001b[K     |████████████████████████████████| 32.8 MB 1.2 MB/s \n",
            "\u001b[?25hCollecting requests>=2.26.0\n",
            "  Downloading requests-2.28.1-py3-none-any.whl (62 kB)\n",
            "\u001b[K     |████████████████████████████████| 62 kB 1.9 MB/s \n",
            "\u001b[?25hRequirement already satisfied: certifi>=2017.4.17 in /usr/local/lib/python3.8/dist-packages (from requests>=2.26.0->SpeechRecognition) (2022.9.24)\n",
            "Requirement already satisfied: charset-normalizer<3,>=2 in /usr/local/lib/python3.8/dist-packages (from requests>=2.26.0->SpeechRecognition) (2.1.1)\n",
            "Requirement already satisfied: urllib3<1.27,>=1.21.1 in /usr/local/lib/python3.8/dist-packages (from requests>=2.26.0->SpeechRecognition) (1.24.3)\n",
            "Requirement already satisfied: idna<4,>=2.5 in /usr/local/lib/python3.8/dist-packages (from requests>=2.26.0->SpeechRecognition) (2.10)\n",
            "Installing collected packages: requests, SpeechRecognition\n",
            "  Attempting uninstall: requests\n",
            "    Found existing installation: requests 2.23.0\n",
            "    Uninstalling requests-2.23.0:\n",
            "      Successfully uninstalled requests-2.23.0\n",
            "Successfully installed SpeechRecognition-3.9.0 requests-2.28.1\n"
          ]
        }
      ]
    },
    {
      "cell_type": "code",
      "source": [
        "import speech_recognition as sr"
      ],
      "metadata": {
        "id": "jJkJIZBFMVew"
      },
      "execution_count": 5,
      "outputs": []
    },
    {
      "cell_type": "code",
      "source": [
        "import os"
      ],
      "metadata": {
        "id": "P9TWPCBBPlPd"
      },
      "execution_count": 6,
      "outputs": []
    },
    {
      "cell_type": "code",
      "source": [
        "import datetime"
      ],
      "metadata": {
        "id": "8pMISJnjQpN9"
      },
      "execution_count": 7,
      "outputs": []
    },
    {
      "cell_type": "code",
      "source": [
        "import subprocess"
      ],
      "metadata": {
        "id": "Ybh24vXOQsA3"
      },
      "execution_count": 8,
      "outputs": []
    },
    {
      "cell_type": "code",
      "source": [
        "import requests"
      ],
      "metadata": {
        "id": "Tsd2XLdJSKlo"
      },
      "execution_count": 9,
      "outputs": []
    },
    {
      "cell_type": "code",
      "source": [
        "logfile = str(datetime.date.today()) + '.log'"
      ],
      "metadata": {
        "id": "r0rom5sfTOgZ"
      },
      "execution_count": 10,
      "outputs": []
    },
    {
      "cell_type": "code",
      "source": [
        "import telebot, wikipedia, re\n",
        "from sklearn.feature_extraction.text import CountVectorizer\n",
        "from sklearn.linear_model import LogisticRegression\n",
        "\n",
        "wikipedia.set_lang(\"ru\")\n",
        "bot = telebot.TeleBot('5652796734:AAECRz3kd4n4jtgoMODLY2skNRNdDPKWqd0')"
      ],
      "metadata": {
        "id": "e6SQ6evI6scj"
      },
      "execution_count": 11,
      "outputs": []
    },
    {
      "cell_type": "code",
      "source": [
        "def clean_str(r):\n",
        "\tr = r.lower()\n",
        "\tr = [c for c in r if c in alphabet]\n",
        "\treturn ''.join(r)\n",
        "\n",
        "alphabet = ' 1234567890-йцукенгшщзхъфывапролджэячсмитьбюёqwertyuiopasdfghjklzxcvbnm?%.,()!:;'"
      ],
      "metadata": {
        "id": "v0SUUnCw9NrW"
      },
      "execution_count": 12,
      "outputs": []
    },
    {
      "cell_type": "code",
      "source": [
        "from google.colab import drive\n",
        "drive.mount('/content/gdrive')"
      ],
      "metadata": {
        "colab": {
          "base_uri": "https://localhost:8080/"
        },
        "id": "b3tAk_tL-B4n",
        "outputId": "0764bd0d-3431-47ca-ca78-5fd0f162d2f2"
      },
      "execution_count": 13,
      "outputs": [
        {
          "output_type": "stream",
          "name": "stdout",
          "text": [
            "Mounted at /content/gdrive\n"
          ]
        }
      ]
    },
    {
      "cell_type": "code",
      "source": [
        "def update():\n",
        "\twith open('/content/gdrive/MyDrive/Colab Notebooks/dialogues.txt', encoding='utf-8') as f:\n",
        "\t\tcontent = f.read()\n",
        "\t\n",
        "\t\n",
        "\tblocks = content.split('\\n')\n",
        "\tdataset = []\n",
        "\t\n",
        "\tfor block in blocks:\n",
        "\t\treplicas = block.split('\\\\')[:2]\n",
        "\t\tif len(replicas) == 2:\n",
        "\t\t\tpair = [clean_str(replicas[0]), clean_str(replicas[1])]\n",
        "\t\t\tif pair[0] and pair[1]:\n",
        "\t\t\t\tdataset.append(pair)\n",
        "\t\n",
        "\tX_text = []\n",
        "\ty = []\n",
        "\t\n",
        "\tfor question, answer in dataset[:10000]:\n",
        "\t\tX_text.append(question)\n",
        "\t\ty += [answer]\n",
        "\t\n",
        "\tglobal vectorizer\n",
        "\tvectorizer = CountVectorizer()\n",
        "\tX = vectorizer.fit_transform(X_text)\n",
        "\t\n",
        "\tglobal clf\n",
        "\tclf = LogisticRegression()\n",
        "\tclf.fit(X, y)\n",
        "\n",
        "update()"
      ],
      "metadata": {
        "id": "vuYqQWgQ-sEW"
      },
      "execution_count": 14,
      "outputs": []
    },
    {
      "cell_type": "code",
      "source": [
        "def get_generative_replica(text):\n",
        "\ttext_vector = vectorizer.transform([text]).toarray()[0]\n",
        "\tquestion = clf.predict([text_vector])[0]\n",
        "\treturn question"
      ],
      "metadata": {
        "id": "QRYhVXPK_Pk-"
      },
      "execution_count": 15,
      "outputs": []
    },
    {
      "cell_type": "code",
      "source": [
        "def getwiki(s):\n",
        "    try:\n",
        "        ny = wikipedia.page(s)\n",
        "        wikitext=ny.content[:1000]\n",
        "        wikimas=wikitext.split('.')\n",
        "        wikimas = wikimas[:-1]\n",
        "        wikitext2 = ''\n",
        "        for x in wikimas:\n",
        "            if not('==' in x):\n",
        "                if(len((x.strip()))>3):\n",
        "                   wikitext2=wikitext2+x+'.'\n",
        "            else:\n",
        "                break\n",
        "        wikitext2=re.sub('\\([^()]*\\)', '', wikitext2)\n",
        "        wikitext2=re.sub('\\([^()]*\\)', '', wikitext2)\n",
        "        wikitext2=re.sub('\\{[^\\{\\}]*\\}', '', wikitext2)\n",
        "        return wikitext2\n",
        "    except Exception as e:\n",
        "        return 'В Википедии нет информации об этом'"
      ],
      "metadata": {
        "id": "pCeFOmG4_Tqm"
      },
      "execution_count": 16,
      "outputs": []
    },
    {
      "cell_type": "code",
      "source": [
        "@bot.message_handler(commands=['start'])\n",
        "def start_message(message):\n",
        "\tbot.send_message(message.chat.id,\"Здравствуйтe, Сэр.\")\n",
        "\n",
        "question = \"\"\n",
        "\n",
        "@bot.message_handler(content_types=['text'])\n",
        "def get_text_messages(message):\n",
        "\tcommand = message.text.lower()\n",
        "\tif command ==\"не так\":\n",
        "\t\tbot.send_message(message.from_user.id, \"а как?\")\n",
        "\t\tbot.register_next_step_handler(message, wrong)\n",
        "\telse:\n",
        "\t\tglobal question\n",
        "\t\tquestion = command\n",
        "\t\treply = get_generative_replica(command)\n",
        "\t\tif reply==\"вики \":\n",
        "\t\t\tbot.send_message(message.from_user.id, getwiki(command))\n",
        "\t\telse:\n",
        "\t\t\tbot.send_message(message.from_user.id, reply)\n",
        "\n",
        "def wrong(message):\t\n",
        "\ta = f\"{question}\\{message.text.lower()} \\n\"\n",
        "\twith open('dialogues.txt', \"a\", encoding='utf-8') as f:\n",
        "\t\tf.write(a)\n",
        "\tbot.send_message(message.from_user.id, \"Готово\")\n",
        "\tupdate()\n"
      ],
      "metadata": {
        "id": "DA8oNoq__aaG"
      },
      "execution_count": 17,
      "outputs": []
    },
    {
      "cell_type": "code",
      "source": [
        "@bot.message_handler(content_types=['voice'])\n",
        "def get_audio_messages(message):\n",
        "\n",
        "    try:\n",
        "        print(\"Started recognition...\")\n",
        "\n",
        "        file_info = bot.get_file(message.voice.file_id)\n",
        "        path = os.path.splitext(file_info.file_path)[0]\n",
        "        fname = os.path.basename(path) \n",
        "        doc = requests.get('https://api.telegram.org/file/bot{0}/{1}'.format('5652796734:AAECRz3kd4n4jtgoMODLY2skNRNdDPKWqd0', file_info.file_path))\n",
        "        with open(fname+'.oga', 'wb') as f:\n",
        "            f.write(doc.content)\n",
        "        process = subprocess.run(['ffmpeg', '-i', fname+'.oga', fname+'.wav'])\n",
        "        result = audio_to_text(fname+'.wav') \n",
        "        question = get_generative_replica(format(result))\n",
        "        bot.reply_to(message, question)\n",
        "    except sr.UnknownValueError as e:\n",
        "        bot.send_message(message.from_user.id,  \"Прошу прощения, но я не разобрал сообщение...\")\n",
        "        with open(logfile, 'a', encoding='utf-8') as f:\n",
        "            f.write(str(datetime.datetime.today().strftime(\"%H:%M:%S\")) + ':' + str(message.from_user.id) + ':' + str(message.from_user.first_name) + '_' + str(message.from_user.last_name) + ':' + str(message.from_user.username) +':'+ str(message.from_user.language_code) + ':Message is empty.\\n')\n",
        "    except Exception as e:\n",
        "        bot.send_message(message.from_user.id,  \"Что-то пошло не так...\")\n",
        "        \n",
        "        with open(logfile, 'a', encoding='utf-8') as f:\n",
        "            f.write(str(datetime.datetime.today().strftime(\"%H:%M:%S\")) + ':' + str(message.from_user.id) + ':' + str(message.from_user.first_name) + '_' + str(message.from_user.last_name) + ':' + str(message.from_user.username) +':'+ str(message.from_user.language_code) +':' + str(e) + '\\n')\n",
        "    finally:\n",
        "        os.remove(fname+'.wav')\n",
        "        os.remove(fname+'.oga')"
      ],
      "metadata": {
        "id": "QTUm7yYPMT5U"
      },
      "execution_count": 18,
      "outputs": []
    },
    {
      "cell_type": "code",
      "source": [
        "def audio_to_text(dest_name: str):\n",
        "    r = sr.Recognizer()\n",
        "    message = sr.AudioFile(dest_name)\n",
        "    with message as source:\n",
        "        audio = r.record(source)\n",
        "    result = r.recognize_google(audio, language=\"ru_RU\")\n",
        "    return result"
      ],
      "metadata": {
        "id": "imyFfwiTNVUg"
      },
      "execution_count": 19,
      "outputs": []
    },
    {
      "cell_type": "code",
      "source": [
        "bot.polling(none_stop=True)"
      ],
      "metadata": {
        "id": "nWcQ2aUO_qx3"
      },
      "execution_count": 21,
      "outputs": []
    }
  ]
}